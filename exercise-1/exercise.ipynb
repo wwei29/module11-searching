{
 "cells": [
  {
   "cell_type": "markdown",
   "metadata": {},
   "source": [
    "# Exercise-1\n",
    "Add the specified code for each code cell, running the cells _in order_."
   ]
  },
  {
   "cell_type": "markdown",
   "metadata": {},
   "source": [
    "Create a variable **`deck`** that represents a deck of [playing cards](https://en.wikipedia.org/wiki/Playing_card). This variable should be a _list_ of 52 elements, each of which is a dictionary with the following keys:\n",
    "- `suit`, with a string value that is either `'hearts'`, `'diamonds'`, `'clubs'`, or `'spades'`.\n",
    "- `rank`, with an interger value ranging from 2 to 14 inclusive (11-14 represent a Jack, Queen, King, or Ace respectively).\n",
    "\n",
    "_Tip:_ use a pair of nested loops to add each combination of suit and rank to the `deck` list!"
   ]
  },
  {
   "cell_type": "code",
   "execution_count": 21,
   "metadata": {
    "collapsed": false
   },
   "outputs": [
    {
     "data": {
      "text/plain": [
       "[{'rank': 2, 'suit': 'diamonds'},\n",
       " {'rank': 3, 'suit': 'diamonds'},\n",
       " {'rank': 4, 'suit': 'diamonds'},\n",
       " {'rank': 5, 'suit': 'diamonds'},\n",
       " {'rank': 6, 'suit': 'diamonds'},\n",
       " {'rank': 7, 'suit': 'diamonds'},\n",
       " {'rank': 8, 'suit': 'diamonds'},\n",
       " {'rank': 9, 'suit': 'diamonds'},\n",
       " {'rank': 10, 'suit': 'diamonds'},\n",
       " {'rank': 11, 'suit': 'diamonds'},\n",
       " {'rank': 12, 'suit': 'diamonds'},\n",
       " {'rank': 13, 'suit': 'diamonds'},\n",
       " {'rank': 14, 'suit': 'diamonds'},\n",
       " {'rank': 2, 'suit': 'hearts'},\n",
       " {'rank': 3, 'suit': 'hearts'},\n",
       " {'rank': 4, 'suit': 'hearts'},\n",
       " {'rank': 5, 'suit': 'hearts'},\n",
       " {'rank': 6, 'suit': 'hearts'},\n",
       " {'rank': 7, 'suit': 'hearts'},\n",
       " {'rank': 8, 'suit': 'hearts'},\n",
       " {'rank': 9, 'suit': 'hearts'},\n",
       " {'rank': 10, 'suit': 'hearts'},\n",
       " {'rank': 11, 'suit': 'hearts'},\n",
       " {'rank': 12, 'suit': 'hearts'},\n",
       " {'rank': 13, 'suit': 'hearts'},\n",
       " {'rank': 14, 'suit': 'hearts'},\n",
       " {'rank': 2, 'suit': 'clubs'},\n",
       " {'rank': 3, 'suit': 'clubs'},\n",
       " {'rank': 4, 'suit': 'clubs'},\n",
       " {'rank': 5, 'suit': 'clubs'},\n",
       " {'rank': 6, 'suit': 'clubs'},\n",
       " {'rank': 7, 'suit': 'clubs'},\n",
       " {'rank': 8, 'suit': 'clubs'},\n",
       " {'rank': 9, 'suit': 'clubs'},\n",
       " {'rank': 10, 'suit': 'clubs'},\n",
       " {'rank': 11, 'suit': 'clubs'},\n",
       " {'rank': 12, 'suit': 'clubs'},\n",
       " {'rank': 13, 'suit': 'clubs'},\n",
       " {'rank': 14, 'suit': 'clubs'},\n",
       " {'rank': 2, 'suit': 'spades'},\n",
       " {'rank': 3, 'suit': 'spades'},\n",
       " {'rank': 4, 'suit': 'spades'},\n",
       " {'rank': 5, 'suit': 'spades'},\n",
       " {'rank': 6, 'suit': 'spades'},\n",
       " {'rank': 7, 'suit': 'spades'},\n",
       " {'rank': 8, 'suit': 'spades'},\n",
       " {'rank': 9, 'suit': 'spades'},\n",
       " {'rank': 10, 'suit': 'spades'},\n",
       " {'rank': 11, 'suit': 'spades'},\n",
       " {'rank': 12, 'suit': 'spades'},\n",
       " {'rank': 13, 'suit': 'spades'},\n",
       " {'rank': 14, 'suit': 'spades'}]"
      ]
     },
     "execution_count": 21,
     "metadata": {},
     "output_type": "execute_result"
    }
   ],
   "source": [
    "deck = []\n",
    "for suit in ['diamonds','hearts','clubs','spades']:\n",
    "    for rank in range(2,15):\n",
    "        card = {'suit' : suit, 'rank':rank}\n",
    "        deck.append(card)\n",
    "deck\n"
   ]
  },
  {
   "cell_type": "markdown",
   "metadata": {},
   "source": [
    "Create a list **hand** that represents a hand of [Poker](https://en.wikipedia.org/wiki/Poker) (5-card draw). Add 5 cards from the `deck` to this list.\n",
    "- You can add 5 specific cards for testing (check their indices!), or use the `random.shuffle()` function to shuffle the deck and then _slice_ 5 cards from the top.\n",
    "\n",
    "Print out the `hand` so you know what you are dealing with!"
   ]
  },
  {
   "cell_type": "code",
   "execution_count": 70,
   "metadata": {
    "collapsed": false
   },
   "outputs": [
    {
     "name": "stdout",
     "output_type": "stream",
     "text": [
      "Here are your cards:\n"
     ]
    },
    {
     "data": {
      "text/plain": [
       "[{'rank': 4, 'suit': 'spades'},\n",
       " {'rank': 13, 'suit': 'diamonds'},\n",
       " {'rank': 2, 'suit': 'clubs'},\n",
       " {'rank': 7, 'suit': 'spades'},\n",
       " {'rank': 5, 'suit': 'spades'}]"
      ]
     },
     "execution_count": 70,
     "metadata": {},
     "output_type": "execute_result"
    }
   ],
   "source": [
    "import random\n",
    "hand = []\n",
    "def draw_5_cards(deck, hand):\n",
    "    random.shuffle(deck)\n",
    "    print('Here are your cards:')\n",
    "    for i in range(5):\n",
    "        hand.append(deck[i])\n",
    "    return(hand)\n",
    "    #print('Good luck next time!!')\n",
    "    \n",
    "draw_5_cards(deck, hand)\n"
   ]
  },
  {
   "cell_type": "markdown",
   "metadata": {},
   "source": [
    "Define a function **`contains_queen_of_hearts()`** that takes in a list of cards (e.g., a hand) and returns whether or not the Queen of Hearts is in that list. _For practice, don't use the `in` operator_."
   ]
  },
  {
   "cell_type": "code",
   "execution_count": 76,
   "metadata": {
    "collapsed": false
   },
   "outputs": [
    {
     "data": {
      "text/plain": [
       "True"
      ]
     },
     "execution_count": 76,
     "metadata": {},
     "output_type": "execute_result"
    }
   ],
   "source": [
    "def countains_queen_of_hearts(cardslist):\n",
    "    for card in cardslist:\n",
    "        if card == {'rank': 12, 'suit': 'hearts'}:\n",
    "            return True\n",
    "    return False\n",
    "# test False\n",
    "countains_queen_of_hearts(hand)\n",
    "# test True\n",
    "countains_queen_of_hearts([{'rank': 4, 'suit': 'spades'}, {'rank': 13, 'suit': 'diamonds'}, {'rank': 2, 'suit': 'clubs'},{'rank': 12, 'suit': 'hearts'}])"
   ]
  },
  {
   "cell_type": "markdown",
   "metadata": {},
   "source": [
    "Define a function **`get_high_card()`** that takes in a list of cards and returns the card (dictionary) of the highest value. The \"high card\" is the one with the highest rank. Cards of different suits but the same rank are considered to have the same value.\n",
    "- Hint: use a \"king-of-the-hill\" search!"
   ]
  },
  {
   "cell_type": "code",
   "execution_count": 85,
   "metadata": {
    "collapsed": false
   },
   "outputs": [
    {
     "data": {
      "text/plain": [
       "13"
      ]
     },
     "execution_count": 85,
     "metadata": {},
     "output_type": "execute_result"
    }
   ],
   "source": [
    "def get_high_card(cardlist):\n",
    "    highest = cardlist[0]['rank']\n",
    "    for card in cardlist:\n",
    "        if card['rank'] > highest:\n",
    "            highest = card['rank']\n",
    "    return(highest)\n",
    "get_high_card(hand)"
   ]
  },
  {
   "cell_type": "markdown",
   "metadata": {},
   "source": [
    "Define a function **`is_flush()`** that takes in a list of cards and returns whether or not the list represents a _flush_&mdash;that is, all of the cards have the same _suit_."
   ]
  },
  {
   "cell_type": "code",
   "execution_count": 88,
   "metadata": {
    "collapsed": false
   },
   "outputs": [
    {
     "data": {
      "text/plain": [
       "False"
      ]
     },
     "execution_count": 88,
     "metadata": {},
     "output_type": "execute_result"
    }
   ],
   "source": [
    "def is_flush(cardlist):\n",
    "    flush = cardlist[0]['suit']\n",
    "    for card in cardlist:\n",
    "        if card['suit'] != flush:\n",
    "            return False\n",
    "    return True\n",
    "is_flush(hand)"
   ]
  },
  {
   "cell_type": "markdown",
   "metadata": {},
   "source": [
    "_Challenge_: Define a functon **`has_pair()`** that takes in a list of cards and returns whether or not there is at least one _pair_ (two cards with the same _rank_) in the list.\n",
    "\n",
    "_Bonus challenge:_ Return the rank of the pair of cards with the highest rank (e.g., if there is more than one pair!) "
   ]
  },
  {
   "cell_type": "code",
   "execution_count": null,
   "metadata": {
    "collapsed": false
   },
   "outputs": [],
   "source": []
  }
 ],
 "metadata": {
  "kernelspec": {
   "display_name": "Python 3",
   "language": "python",
   "name": "python3"
  },
  "language_info": {
   "codemirror_mode": {
    "name": "ipython",
    "version": 3
   },
   "file_extension": ".py",
   "mimetype": "text/x-python",
   "name": "python",
   "nbconvert_exporter": "python",
   "pygments_lexer": "ipython3",
   "version": "3.6.0"
  },
  "toc": {
   "colors": {
    "hover_highlight": "#DAA520",
    "running_highlight": "#FF0000",
    "selected_highlight": "#FFD700"
   },
   "moveMenuLeft": true,
   "nav_menu": {
    "height": "30px",
    "width": "252px"
   },
   "navigate_menu": true,
   "number_sections": true,
   "sideBar": true,
   "threshold": 4,
   "toc_cell": false,
   "toc_section_display": "block",
   "toc_window_display": false,
   "widenNotebook": false
  }
 },
 "nbformat": 4,
 "nbformat_minor": 2
}
